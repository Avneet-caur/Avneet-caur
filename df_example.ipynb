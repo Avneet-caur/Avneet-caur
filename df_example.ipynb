{
  "nbformat": 4,
  "nbformat_minor": 0,
  "metadata": {
    "colab": {
      "provenance": [],
      "authorship_tag": "ABX9TyPy+BGzN8XHaLuO+1rS/heR",
      "include_colab_link": true
    },
    "kernelspec": {
      "name": "python3",
      "display_name": "Python 3"
    },
    "language_info": {
      "name": "python"
    }
  },
  "cells": [
    {
      "cell_type": "markdown",
      "metadata": {
        "id": "view-in-github",
        "colab_type": "text"
      },
      "source": [
        "<a href=\"https://colab.research.google.com/github/Avneet-caur/Avneet-caur/blob/main/df_example.ipynb\" target=\"_parent\"><img src=\"https://colab.research.google.com/assets/colab-badge.svg\" alt=\"Open In Colab\"/></a>"
      ]
    },
    {
      "cell_type": "code",
      "execution_count": null,
      "metadata": {
        "id": "IAwh4LOgrPJP"
      },
      "outputs": [],
      "source": []
    },
    {
      "cell_type": "code",
      "source": [
        "# Avneet\n",
        "# df_example.py\n",
        "\n",
        "import pandas as pd\n",
        "import numpy as np\n",
        "\n",
        "# Create first dataframe\n",
        "df1 = pd.DataFrame({'Name': ['Cal', 'Aaron', 'Christian'],\n",
        "                    'Age': [21, 19, 15],\n",
        "                    'Fav Color': ['Pink', 'Red', 'Blue']})\n",
        "\n",
        "# Create second dataframe\n",
        "df2 = pd.DataFrame([{'Name': 'Dante', 'Age': 22, 'Fav Color': 'Green'},\n",
        "                    {'Name': 'Bridget', 'Age': 18, 'Fav Color': 'Orange'},\n",
        "                    {'Name': 'Stella', 'Age': 20, 'Fav Color': 'Purple'}])\n",
        "\n",
        "# Concat along rows\n",
        "rr = pd.concat([df1, df2])\n",
        "\n",
        "print(rr)\n"
      ],
      "metadata": {
        "colab": {
          "base_uri": "https://localhost:8080/"
        },
        "id": "Z67W13-yrfma",
        "outputId": "7c70988d-231b-425b-855b-10d70ef76ad6"
      },
      "execution_count": null,
      "outputs": [
        {
          "output_type": "stream",
          "name": "stdout",
          "text": [
            "        Name  Age Fav Color\n",
            "0        Cal   25      Pink\n",
            "1      Aaron   30       Red\n",
            "2  Christian   35      Blue\n",
            "0      Dante   22     Green\n",
            "1    Bridget   28    Orange\n",
            "2     Stella   33    Purple\n"
          ]
        }
      ]
    }
  ]
}